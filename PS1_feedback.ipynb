{
 "cells": [
  {
   "cell_type": "markdown",
   "id": "9c9b5d40-6fb1-443a-a91b-1d6f8884a506",
   "metadata": {},
   "source": [
    "### 这个单元格给助教，请忽略!\n",
    "\n",
    "### Score: 107\n",
    "\n",
    "### Comment:\n",
    "Q1.[11]Good job!\n",
    "\n",
    "Q2.[11]Good job!\n",
    "\n",
    "Q3.[16.5+5.5]Good job!\n",
    "\n",
    "Q4.[5.5+16.5+4]4.3缺少对图的分析\n",
    "\n",
    "Q5.[4+27.5+5.5]5.1函数逻辑有误\n",
    "\n",
    "请实现每个 function 内容，确保最终提交的notebook是可以运行的。\n",
    "\n",
    "每一题除了必须要报告的 输出/图表，可以添加解释（中文即可）。此外可以自定义其他 function / 变量，自由添加单元格，但请确保题目中给出的 function （如第一题的 Print_values）可以正常调用。"
   ]
  },
  {
   "cell_type": "code",
   "execution_count": 3,
   "id": "49b2fa3b-6d89-4008-87f4-710c4bf31ac6",
   "metadata": {},
   "outputs": [
    {
     "name": "stdout",
     "output_type": "stream",
     "text": [
      "The result is: 5\n"
     ]
    }
   ],
   "source": [
    "# 1\n",
    "def calcu(x, y, z): # 紫色平行四边形运算符：计算并打印x + y - 10 * z\n",
    "    result = x + y - 10 * z  \n",
    "    print(f\"The result is: {result}\")  \n",
    "def inputs(a, b, c):  \n",
    "    if a > b:  \n",
    "        if b > c:  \n",
    "           calcu(a, b, c)  \n",
    "        else:  \n",
    "            if a > c:  \n",
    "                calcu(a, c, b)  \n",
    "            else: \n",
    "                calcu(c, a, b)  \n",
    "    else:  \n",
    "        if b > c:  \n",
    "            if a > c:  \n",
    "                calcu(b, a, c)  \n",
    "            else:  \n",
    "                calcu(b, c, a)  \n",
    "        else:  \n",
    "            calcu(c, b, a)  \n",
    "            \n",
    "a, b, c = 10, 5, 1  \n",
    "inputs(a, b, c)"
   ]
  },
  {
   "cell_type": "code",
   "execution_count": 4,
   "id": "54d047f1-4f7c-48ec-878f-db2af032618a",
   "metadata": {},
   "outputs": [
    {
     "data": {
      "text/plain": [
       "[1, 5, 7, 13, 15, 305]"
      ]
     },
     "execution_count": 4,
     "metadata": {},
     "output_type": "execute_result"
    }
   ],
   "source": [
    "# 2\n",
    "import math  \n",
    "  \n",
    "def F(x):  \n",
    "    if x == 1: # 基本情况：F(1) = 1\n",
    "        return 1  \n",
    "    else:  \n",
    "        return F(math.ceil(x / 3)) + 2 * x # 递归情况：F(x) = F(ceil(x / 3)) + 2 * x\n",
    "\n",
    "def F_list(nums):  \n",
    "    result = []  \n",
    "    for num in nums:  \n",
    "        result.append(F(num))  \n",
    "    return result  \n",
    "F_list([1, 2, 3, 4, 5, 100])"
   ]
  },
  {
   "cell_type": "code",
   "execution_count": 5,
   "id": "664e1156-e85c-4222-898c-51b77fc042bc",
   "metadata": {},
   "outputs": [
    {
     "name": "stdout",
     "output_type": "stream",
     "text": [
      "和为 10 的方法数: 1\n",
      "和为 11 的方法数: 10\n",
      "和为 12 的方法数: 55\n",
      "和为 13 的方法数: 220\n",
      "和为 14 的方法数: 715\n",
      "和为 15 的方法数: 2002\n",
      "和为 16 的方法数: 4995\n",
      "和为 17 的方法数: 11340\n",
      "和为 18 的方法数: 23760\n",
      "和为 19 的方法数: 46420\n",
      "和为 20 的方法数: 85228\n",
      "和为 21 的方法数: 147940\n",
      "和为 22 的方法数: 243925\n",
      "和为 23 的方法数: 383470\n",
      "和为 24 的方法数: 576565\n",
      "和为 25 的方法数: 831204\n",
      "和为 26 的方法数: 1151370\n",
      "和为 27 的方法数: 1535040\n",
      "和为 28 的方法数: 1972630\n",
      "和为 29 的方法数: 2446300\n",
      "和为 30 的方法数: 2930455\n",
      "和为 31 的方法数: 3393610\n",
      "和为 32 的方法数: 3801535\n",
      "和为 33 的方法数: 4121260\n",
      "和为 34 的方法数: 4325310\n",
      "和为 35 的方法数: 4395456\n",
      "和为 36 的方法数: 4325310\n",
      "和为 37 的方法数: 4121260\n",
      "和为 38 的方法数: 3801535\n",
      "和为 39 的方法数: 3393610\n",
      "和为 40 的方法数: 2930455\n",
      "和为 41 的方法数: 2446300\n",
      "和为 42 的方法数: 1972630\n",
      "和为 43 的方法数: 1535040\n",
      "和为 44 的方法数: 1151370\n",
      "和为 45 的方法数: 831204\n",
      "和为 46 的方法数: 576565\n",
      "和为 47 的方法数: 383470\n",
      "和为 48 的方法数: 243925\n",
      "和为 49 的方法数: 147940\n",
      "和为 50 的方法数: 85228\n",
      "和为 51 的方法数: 46420\n",
      "和为 52 的方法数: 23760\n",
      "和为 53 的方法数: 11340\n",
      "和为 54 的方法数: 4995\n",
      "和为 55 的方法数: 2002\n",
      "和为 56 的方法数: 715\n",
      "和为 57 的方法数: 220\n",
      "和为 58 的方法数: 55\n",
      "和为 59 的方法数: 10\n",
      "和为 60 的方法数: 1\n",
      "产生最多方法的和是: 35\n",
      "最多的方法数是: 4395456\n"
     ]
    }
   ],
   "source": [
    "# 3\n",
    "num_dice = 10 # 骰子个数\n",
    "sides_per_dice = 6 \n",
    "min_sum = 10 # 扔十次的最小和  \n",
    "max_sum = 60 # 扔十次的最大和  \n",
    "      \n",
    "dp = [0] * (6 * num_dice + 1 ) # 最多60  \n",
    "dp[0] = 1 # 初始化为0的和有1种方法  \n",
    "\n",
    "# 动态规划 \n",
    "for num in range(1, num_dice + 1): # 遍历每一个骰子，表示正在计算投掷到第num个骰子时的结果。\n",
    "    new_dp = [0] * (6 * num_dice + 1 ) # 创建一个新的列表来存储当前轮次的结果\n",
    "    for current_sum in range(num, 6 * num + 1): # 遍历所有可能的当前和，从num（因为至少投掷了num个1）到6 * num（如果每个骰子都投出6）。  \n",
    "        for side in range(1, sides_per_dice + 1): # 遍历骰子的每个面  \n",
    "            if current_sum - side >= 0:  \n",
    "                new_dp[current_sum] += dp[current_sum - side] # 如果当前和减去当前面值仍然是一个有效的和（即非负），则更新方法数 \n",
    "    dp = new_dp # 更新dp\n",
    "\n",
    "Number_ways = dp[min_sum:max_sum + 1] # 提取从min_sum到max_sum的方法数   \n",
    "for x in range(min_sum, max_sum + 1):  \n",
    "    print(f\"和为 {x} 的方法数: {Number_ways[x - min_sum]}\")  \n",
    "\n",
    "# 找到产生最多方法的和\n",
    "max_ways = max(Number_ways)  \n",
    "max_x = Number_ways.index(max_ways) + min_sum # 转换回实际的和  \n",
    "print(f\"产生最多方法的和是: {max_x}\")  \n",
    "print(f\"最多的方法数是: {max_ways}\")"
   ]
  },
  {
   "cell_type": "code",
   "execution_count": 13,
   "id": "904991a4-affb-4aa9-b6bb-63172156096b",
   "metadata": {},
   "outputs": [
    {
     "data": {
      "text/plain": [
       "[9, 3, 10, 5, 8]"
      ]
     },
     "execution_count": 13,
     "metadata": {},
     "output_type": "execute_result"
    }
   ],
   "source": [
    "# 4.1\n",
    "import random  \n",
    "import itertools \n",
    "import matplotlib.pyplot as plt \n",
    "\n",
    "# 生成一个包含N个0到10之间随机整数的数组\n",
    "def Random_integer(N): \n",
    "    return [random.randint(0, 10) for _ in range(N)] \n",
    "Random_integer(5)"
   ]
  },
  {
   "cell_type": "code",
   "execution_count": 14,
   "id": "4954ee9d-85d6-413a-8f20-030f2dbb5b70",
   "metadata": {},
   "outputs": [
    {
     "data": {
      "text/plain": [
       "14.0"
      ]
     },
     "execution_count": 14,
     "metadata": {},
     "output_type": "execute_result"
    }
   ],
   "source": [
    "# 4.2\n",
    "# 计算数组中所有子集的平均值之和\n",
    "def sum_averages(arr): \n",
    "    total_sum = 0\n",
    "    n = len(arr)\n",
    "    for r in range(1, n + 1): # 遍历所有可能的子集大小（从1到n）\n",
    "        for subset in itertools.combinations(arr, r): # 生成所有大小为r的子集  \n",
    "            average = sum(subset) / len(subset)  \n",
    "            total_sum += average  \n",
    "    return total_sum  \n",
    "sum_averages([1, 2, 3])"
   ]
  },
  {
   "cell_type": "code",
   "execution_count": 31,
   "id": "96822d78-5b59-4f13-a412-2405faab21b4",
   "metadata": {},
   "outputs": [
    {
     "name": "stdout",
     "output_type": "stream",
     "text": [
      "[9.0, 9.0, 42.0, 60.0, 130.2, 189.0, 399.1428571428572, 764.9999999999999, 2668.5555555555557, 4603.499999999999, 10421.090909090914, 22522.499999999996, 37174.53846153852, 90106.5000000001, 141990.33333333317, 303099.375, 624514.764705883, 1165080.0000000016, 2345494.473684174, 6291449.999999948]\n"
     ]
    },
    {
     "data": {
      "image/png": "[encoded data removed]",
      "text/plain": [
       "<Figure size 640x480 with 1 Axes>"
      ]
     },
     "metadata": {},
     "output_type": "display_data"
    }
   ],
   "source": [
    "# 4.3\n",
    "# 对于N从1到100，计算每个数组的所有子集的平均值之和 \n",
    "total_sum_averages = []  \n",
    "for N in range(1, 21):  \n",
    "    arr = Random_integer(N)  \n",
    "    total_sum = sum_averages(arr)  \n",
    "    total_sum_averages.append(total_sum)  \n",
    "print(total_sum_averages)\n",
    "# 绘制total_sum_averages  \n",
    "plt.plot(range(1, 21), total_sum_averages)  \n",
    "plt.xlabel('N')  \n",
    "plt.ylabel('Total sum of averages')  \n",
    "plt.title('The average sum of a random array of numbers.')  \n",
    "plt.grid(True)  \n",
    "# NOTE: 缺少对图的分析 -1\n",
    "plt.show()"
   ]
  },
  {
   "cell_type": "code",
   "execution_count": 68,
   "id": "c0a8fd7b-e683-4dc1-8c82-7c5d43b8403c",
   "metadata": {},
   "outputs": [
    {
     "data": {
      "text/plain": [
       "array([[1, 1, 0, 1],\n",
       "       [1, 1, 0, 0],\n",
       "       [0, 1, 1, 1],\n",
       "       [0, 0, 0, 1]])"
      ]
     },
     "execution_count": 68,
     "metadata": {},
     "output_type": "execute_result"
    }
   ],
   "source": [
    "# 5.1\n",
    "import random  \n",
    "\n",
    "# 创建矩阵\n",
    "'''\n",
    "def new_matrix(N, M):  \n",
    "    matrix = [[0 for _ in range(M)] for _ in range(N)] # 所有元素都设置为0 \n",
    "    matrix[0][0] = 1 # 左上角为1 \n",
    "    matrix[N-1][M-1] = 1 # 右下角为1\n",
    "    # NOTE: 这样创建的矩阵的左上角和右下角又被随机值覆盖了，可以试试先创建随机矩阵，再设置左上角和右下角的值 -1\n",
    "    for i in range(0, N): #遍历矩阵的行\n",
    "        for j in range(0, M): #遍历矩阵的列 \n",
    "            matrix[i][j] = random.randint(0, 1)  \n",
    "    return matrix\n",
    "'''\n",
    "# NOTE: 这是稍微修改后的代码\n",
    "import numpy as np\n",
    "def new_matrix(N, M):  \n",
    "    matrix = np.zeros((N, M), dtype=int) # 所有元素都设置为0 \n",
    "    for i in range(0, N): #遍历矩阵的行\n",
    "        for j in range(0, M): #遍历矩阵的列 \n",
    "            matrix[i][j] = random.randint(0, 1)\n",
    "    matrix[0][0] = 1 # 左上角为1 \n",
    "    matrix[N-1][M-1] = 1 # 右下角为1\n",
    "    return matrix\n",
    "new_matrix(4, 4)"
   ]
  },
  {
   "cell_type": "code",
   "execution_count": 87,
   "id": "f15f1ed5-c7e5-4d9f-ae45-294bd20c0019",
   "metadata": {},
   "outputs": [
    {
     "name": "stdout",
     "output_type": "stream",
     "text": [
      "[[1 1 0 1]\n",
      " [0 1 1 1]\n",
      " [1 1 1 0]\n",
      " [0 0 1 1]]\n"
     ]
    },
    {
     "data": {
      "text/plain": [
       "2"
      ]
     },
     "execution_count": 87,
     "metadata": {},
     "output_type": "execute_result"
    }
   ],
   "source": [
    "# 5.2\n",
    "# 计算路径\n",
    "def Count_paths(matrix):  \n",
    "    N = len(matrix)  \n",
    "    M = len(matrix[0])  \n",
    "    dp = [[0 for _ in range(M)] for _ in range(N)] # 创建一个与原始矩阵相同大小的dp矩阵，用于存储到达每个单元格的路径数\n",
    "    dp[0][0] = 1  \n",
    "    for j in range(1, M): # 填充第一行（从左向右）\n",
    "        if matrix[0][j] == 1:  \n",
    "            dp[0][j] = dp[0][j-1] #它的路径数等于它左边单元格的路径数\n",
    "    for i in range(1, N): # 填充第一列（从上向下移动）\n",
    "        if matrix[i][0] == 1:  \n",
    "            dp[i][0] = dp[i-1][0] #它的路径数等于它上面单元格的路径数\n",
    "    for i in range(1, N):  \n",
    "        for j in range(1, M):  \n",
    "            if matrix[i][j] == 1:  \n",
    "                dp[i][j] = dp[i-1][j] + dp[i][j-1]       \n",
    "    return dp[N-1][M-1] # 返回右下角的单元格中的路径数\n",
    "\n",
    "a = new_matrix(4, 4)\n",
    "print(a)\n",
    "Count_paths(a)"
   ]
  },
  {
   "cell_type": "code",
   "execution_count": 95,
   "id": "5eb75b71-f705-4b88-95cf-0ab79b88901d",
   "metadata": {},
   "outputs": [
    {
     "name": "stdout",
     "output_type": "stream",
     "text": [
      "Average number of paths 1000: 0.306\n"
     ]
    }
   ],
   "source": [
    "# 5.3\n",
    "# 路径总数平均值\n",
    "def average_paths(N, M, runs):  \n",
    "    total_paths = 0  \n",
    "    for _ in range(runs):  \n",
    "        matrix = new_matrix(N, M)  \n",
    "        total_paths += Count_paths(matrix)  \n",
    "    average_path = total_paths / runs  \n",
    "    return average_path  \n",
    "\n",
    "N = 10  \n",
    "M = 8  \n",
    "runs = 1000  \n",
    "average = average_paths(N, M, runs)  \n",
    "print(f\"Average number of paths {runs}: {average}\")"
   ]
  },
  {
   "cell_type": "code",
   "execution_count": null,
   "id": "2483e020-c408-4cc2-be02-20f901d843a4",
   "metadata": {},
   "outputs": [],
   "source": []
  }
 ],
 "metadata": {
  "kernelspec": {
   "display_name": "Python 3 (ipykernel)",
   "language": "python",
   "name": "python3"
  },
  "language_info": {
   "codemirror_mode": {
    "name": "ipython",
    "version": 3
   },
   "file_extension": ".py",
   "mimetype": "text/x-python",
   "name": "python",
   "nbconvert_exporter": "python",
   "pygments_lexer": "ipython3",
   "version": "3.12.7"
  }
 },
 "nbformat": 4,
 "nbformat_minor": 5
}
